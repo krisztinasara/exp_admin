{
 "cells": [
  {
   "cell_type": "markdown",
   "metadata": {},
   "source": [
    "# Azonosító keresése az outputokban\n",
    "A kóddarabokat úgy tudjuk lefuttatni, ha belekattintunk a mezőkbe, és megnyomjuk a Ctrl+Enter-t. Minden kódot tartalmazó mezőt le kell futtatni, legalább egyszer a keresés elején."
   ]
  },
  {
   "cell_type": "markdown",
   "metadata": {},
   "source": [
    "### 1. Szükséges csomagok importálása\n",
    "A keresés előtt egyszer be kell őket hívni."
   ]
  },
  {
   "cell_type": "code",
   "execution_count": null,
   "metadata": {},
   "outputs": [],
   "source": [
    "import pandas as pd\n",
    "from glob import glob"
   ]
  },
  {
   "cell_type": "markdown",
   "metadata": {},
   "source": [
    "### 2. Adatok megadása\n",
    "A \"Keresett azonosító\"-hoz azt az azonosítót írjuk, amit keresünk (egyszerre egyet).\n",
    "Az \"Azonosító változónév\"-hez azt a változónevet írjuk, ami az output táblázatokban az azonosítót kódolja.\n",
    "Az \"Output fájlok elérési útja\"-hoz azt a mappát írjuk, ahol a fájlok vannak a saját gépünkön (a meghajtótól számítva, pl. C:/Felhasználók/Béla/Kísérletek).\n",
    "\n",
    "Nem a kódba kell beírni, hanem ha lefuttatjuk a kódot, külön be fogja kérni ezeket az adatokat."
   ]
  },
  {
   "cell_type": "code",
   "execution_count": null,
   "metadata": {},
   "outputs": [],
   "source": [
    "ID_name = input(\"Azonosító változónév: \")\n",
    "if ID_name == \"\":\n",
    "    ID_name = \"Azonosító\""
   ]
  },
  {
   "cell_type": "code",
   "execution_count": null,
   "metadata": {},
   "outputs": [],
   "source": [
    "path = input(\"Output fájlok elérési útja: \")"
   ]
  },
  {
   "cell_type": "markdown",
   "metadata": {},
   "source": [
    "### 3. Keresés és eredmények\n",
    "Meg kell adni az azonosítót. Ha az eredmény \"[]\", ez azt jelenti, hogy nem talált egy fájlt sem az adott azonosítóval."
   ]
  },
  {
   "cell_type": "code",
   "execution_count": null,
   "metadata": {},
   "outputs": [],
   "source": [
    "ID = input(\"Keresett azonosító: \")\n",
    "filenames = []\n",
    "for file in glob(path + \"/*.csv\"):\n",
    "    try:\n",
    "        this = pd.read_csv(file)\n",
    "        if str(this[ID_name].unique()[0]) == ID:\n",
    "            filenames.append(file)\n",
    "    except:\n",
    "        pass\n",
    "print(filenames)"
   ]
  }
 ],
 "metadata": {
  "kernelspec": {
   "display_name": "Python 3",
   "language": "python",
   "name": "python3"
  },
  "language_info": {
   "codemirror_mode": {
    "name": "ipython",
    "version": 3
   },
   "file_extension": ".py",
   "mimetype": "text/x-python",
   "name": "python",
   "nbconvert_exporter": "python",
   "pygments_lexer": "ipython3",
   "version": "3.7.4"
  }
 },
 "nbformat": 4,
 "nbformat_minor": 4
}
