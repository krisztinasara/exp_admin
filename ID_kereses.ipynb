{
 "cells": [
  {
   "cell_type": "markdown",
   "metadata": {},
   "source": [
    "# Azonosító keresése az outputokban\n",
    "A kóddarabokat úgy tudjuk lefuttatn, ha belekattintunk a mezőkbe, és megnyomjuk a Ctrl+Enter-t. Minden kódot tartalmazó mezőt le kell futtatni."
   ]
  },
  {
   "cell_type": "markdown",
   "metadata": {},
   "source": [
    "### 1. Szükséges csomagok importálása"
   ]
  },
  {
   "cell_type": "code",
   "execution_count": 3,
   "metadata": {},
   "outputs": [],
   "source": [
    "import pandas as pd\n",
    "from glob import glob"
   ]
  },
  {
   "cell_type": "markdown",
   "metadata": {},
   "source": [
    "### 2. Adatok megadása\n",
    "A \"Keresett azonosító\"-hoz azt az azonosítót írjuk, amit keresünk (egyszerre egyet).\n",
    "Az \"Azonosító változónév\"-hez azt a változónevet írjuk, ami az output táblázatokban az azonosítót kódolja.\n",
    "Az \"Output fájlok elérési útja\"-hoz azt a mappát írjuk, ahol a fájlok vannak a saját gépünkön (a meghajtótól számítva, pl. C:/Felhasználók/Béla/Kísérletek).\n",
    "\n",
    "Nem a kódba kell beírni, hanem ha lefuttatjuk a kódot, külön be fogja kérni ezeket az adatokat."
   ]
  },
  {
   "cell_type": "code",
   "execution_count": 1,
   "metadata": {},
   "outputs": [
    {
     "name": "stdin",
     "output_type": "stream",
     "text": [
      "Keresett azonosító:  7002\n",
      "Azonosító változónév:  Azonosító\n",
      "Output fájlok elérési útja:  C:/Users/Kriszti/Downloads/proba_logok/brooks_cat_offline\n"
     ]
    }
   ],
   "source": [
    "ID = input(\"Keresett azonosító: \")\n",
    "ID_name = input(\"Azonosító változónév: \")\n",
    "if ID_name == \"\":\n",
    "    ID_name = \"Azonosító\"\n",
    "path = input(\"Output fájlok elérési útja: \")"
   ]
  },
  {
   "cell_type": "markdown",
   "metadata": {},
   "source": [
    "### 3. Keresés"
   ]
  },
  {
   "cell_type": "code",
   "execution_count": 4,
   "metadata": {},
   "outputs": [],
   "source": [
    "filenames = []\n",
    "for file in glob(path + \"/*.csv\"):\n",
    "    this = pd.read_csv(file)\n",
    "    if str(this[ID_name].unique()[0]) == ID:\n",
    "        filenames.append(file)"
   ]
  },
  {
   "cell_type": "markdown",
   "metadata": {},
   "source": [
    "### 4. Eredmények\n",
    "Ha az eredmény \"[]\", ez azt jelenti, hogy nem talált egy fájlt sem az adott azonosítóval."
   ]
  },
  {
   "cell_type": "code",
   "execution_count": 5,
   "metadata": {},
   "outputs": [
    {
     "name": "stdout",
     "output_type": "stream",
     "text": [
      "[]\n"
     ]
    }
   ],
   "source": [
    "print(filenames)"
   ]
  }
 ],
 "metadata": {
  "kernelspec": {
   "display_name": "Python 3",
   "language": "python",
   "name": "python3"
  },
  "language_info": {
   "codemirror_mode": {
    "name": "ipython",
    "version": 3
   },
   "file_extension": ".py",
   "mimetype": "text/x-python",
   "name": "python",
   "nbconvert_exporter": "python",
   "pygments_lexer": "ipython3",
   "version": "3.7.4"
  }
 },
 "nbformat": 4,
 "nbformat_minor": 4
}
